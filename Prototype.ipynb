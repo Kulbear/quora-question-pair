{
 "cells": [
  {
   "cell_type": "code",
   "execution_count": 1,
   "metadata": {},
   "outputs": [
    {
     "name": "stderr",
     "output_type": "stream",
     "text": [
      "/Users/kul/miniconda3/envs/dl/lib/python3.5/site-packages/fuzzywuzzy/fuzz.py:35: UserWarning: Using slow pure-python SequenceMatcher. Install python-Levenshtein to remove this warning\n",
      "  warnings.warn('Using slow pure-python SequenceMatcher. Install python-Levenshtein to remove this warning')\n"
     ]
    }
   ],
   "source": [
    "import pandas as pd\n",
    "import numpy as np\n",
    "pd.options.mode.chained_assignment = None\n",
    "\n",
    "from fuzzywuzzy import fuzz\n",
    "from sklearn.feature_extraction.text import TfidfVectorizer, CountVectorizer\n",
    "from sklearn.utils import shuffle\n",
    "\n",
    "from nltk.corpus import stopwords\n",
    "from nltk.metrics import jaccard_distance"
   ]
  },
  {
   "cell_type": "code",
   "execution_count": 2,
   "metadata": {},
   "outputs": [],
   "source": [
    "data = shuffle(pd.read_csv('train.csv'))\n",
    "# df = df.head()"
   ]
  },
  {
   "cell_type": "markdown",
   "metadata": {},
   "source": [
    "## Intuitive Features"
   ]
  },
  {
   "cell_type": "code",
   "execution_count": 3,
   "metadata": {},
   "outputs": [
    {
     "data": {
      "text/plain": [
       "(404290, 6)"
      ]
     },
     "execution_count": 3,
     "metadata": {},
     "output_type": "execute_result"
    }
   ],
   "source": [
    "data.shape"
   ]
  },
  {
   "cell_type": "code",
   "execution_count": 4,
   "metadata": {
    "collapsed": true
   },
   "outputs": [],
   "source": [
    "# TODO: temporary us\n",
    "train_data = data[:10000]\n",
    "# test_data = data[10000:11000]"
   ]
  },
  {
   "cell_type": "code",
   "execution_count": 5,
   "metadata": {
    "collapsed": true
   },
   "outputs": [],
   "source": [
    "def process(df):\n",
    "    # feature set 1\n",
    "    df['q1_char_length_with_space'] = df.question1.apply(lambda x: len(str(x))) # with space\n",
    "    df['q1_char_length_without_space'] = df.question1.apply(lambda x: len(str(x).replace(' ', ''))) # without space\n",
    "    df['q1_word_length'] = df.question1.apply(lambda x: len(str(x).split(' ')))\n",
    "    df['q1_question_mark'] = df.question1.apply(lambda x: str(x).count('?')) # TODO: prob not good?\n",
    "\n",
    "    df['q2_char_length_with_space'] = df.question2.apply(lambda x: len(str(x))) # with space\n",
    "    df['q2_char_length_without_space'] = df.question2.apply(lambda x: len(str(x).replace(' ', ''))) # without space\n",
    "    df['q2_word_length'] = df.question2.apply(lambda x: len(str(x).split(' ')))\n",
    "    df['q2_question_mark'] = df.question2.apply(lambda x: str(x).count('?')) # TODO: prob not good?\n",
    "\n",
    "    df['word_length_diff'] = abs(df.q2_word_length - df.q1_word_length)\n",
    "    df['char_length_diff'] = abs(df.q2_char_length_without_space - df.q1_char_length_without_space)\n",
    "    df['common_words'] = df.apply(lambda x: len(set(str(x.question1).lower().split()).intersection(set(str(x.question2).lower().split()))), axis=1)\n",
    "\n",
    "    # feature set 2\n",
    "    df['fuzz_qratio'] = df.apply(lambda x: fuzz.QRatio(str(x.question1), str(x.question2)), axis=1)\n",
    "    df['fuzz_WRatio'] = df.apply(lambda x: fuzz.WRatio(str(x.question1), str(x.question2)), axis=1)\n",
    "    df['fuzz_partial_ratio'] = df.apply(lambda x: fuzz.partial_ratio(str(x.question1), str(x.question2)), axis=1)\n",
    "    df['fuzz_partial_token_set_ratio'] = df.apply(lambda x: fuzz.partial_token_set_ratio(str(x.question1), str(x.question2)), axis=1)\n",
    "    df['fuzz_partial_token_sort_ratio'] = df.apply(lambda x: fuzz.partial_token_sort_ratio(str(x.question1), str(x.question2)), axis=1)\n",
    "    df['fuzz_token_set_ratio'] = df.apply(lambda x: fuzz.token_set_ratio(str(x.question1), str(x.question2)), axis=1)\n",
    "    df['fuzz_token_sort_ratio'] = df.apply(lambda x: fuzz.token_sort_ratio(str(x.question1), str(x.question2)), axis=1)\n",
    "    \n",
    "    return df"
   ]
  },
  {
   "cell_type": "code",
   "execution_count": 6,
   "metadata": {},
   "outputs": [],
   "source": [
    "train_df = process(train_data)\n",
    "# test_df = process(test_data)"
   ]
  },
  {
   "cell_type": "code",
   "execution_count": 7,
   "metadata": {},
   "outputs": [
    {
     "data": {
      "text/plain": [
       "id                                                                    126335\n",
       "qid1                                                                   35698\n",
       "qid2                                                                   74317\n",
       "question1                                 How can I hack a Facebook account?\n",
       "question2                        How do paid hackers hack Facebook profiles?\n",
       "is_duplicate                                                               1\n",
       "q1_char_length_with_space                                                 34\n",
       "q1_char_length_without_space                                              28\n",
       "q1_word_length                                                             7\n",
       "q1_question_mark                                                           1\n",
       "q2_char_length_with_space                                                 43\n",
       "q2_char_length_without_space                                              37\n",
       "q2_word_length                                                             7\n",
       "q2_question_mark                                                           1\n",
       "word_length_diff                                                           0\n",
       "char_length_diff                                                           9\n",
       "common_words                                                               3\n",
       "fuzz_qratio                                                               64\n",
       "fuzz_WRatio                                                               65\n",
       "fuzz_partial_ratio                                                        65\n",
       "fuzz_partial_token_set_ratio                                             100\n",
       "fuzz_partial_token_sort_ratio                                             64\n",
       "fuzz_token_set_ratio                                                      68\n",
       "fuzz_token_sort_ratio                                                     56\n",
       "Name: 126335, dtype: object"
      ]
     },
     "execution_count": 7,
     "metadata": {},
     "output_type": "execute_result"
    }
   ],
   "source": [
    "train_df.iloc[0]"
   ]
  },
  {
   "cell_type": "code",
   "execution_count": 8,
   "metadata": {
    "collapsed": true
   },
   "outputs": [],
   "source": [
    "train_cols = ['q1_char_length_with_space', 'q1_char_length_without_space',\n",
    "       'q1_word_length', 'q1_question_mark', 'q2_char_length_with_space',\n",
    "       'q2_char_length_without_space', 'q2_word_length', 'q2_question_mark',\n",
    "       'word_length_diff', 'char_length_diff', 'common_words', 'fuzz_qratio',\n",
    "       'fuzz_WRatio', 'fuzz_partial_ratio', 'fuzz_partial_token_set_ratio',\n",
    "       'fuzz_partial_token_sort_ratio', 'fuzz_token_set_ratio',\n",
    "       'fuzz_token_sort_ratio']\n",
    "# train_cols = ['q1_char_length_with_space', 'q1_char_length_without_space',\n",
    "#        'q1_word_length', 'q1_question_mark', 'q2_char_length_with_space',\n",
    "#        'q2_char_length_without_space', 'q2_word_length', 'q2_question_mark',\n",
    "#        'word_length_diff', 'char_length_diff', 'common_words']"
   ]
  },
  {
   "cell_type": "code",
   "execution_count": 9,
   "metadata": {
    "collapsed": true
   },
   "outputs": [],
   "source": [
    "label_col = ['is_duplicate']"
   ]
  },
  {
   "cell_type": "code",
   "execution_count": 10,
   "metadata": {},
   "outputs": [],
   "source": [
    "from sklearn import svm\n",
    "from sklearn import tree\n",
    "from sklearn import linear_model\n",
    "from sklearn import ensemble\n",
    "\n",
    "from sklearn.model_selection import cross_val_score"
   ]
  },
  {
   "cell_type": "code",
   "execution_count": 11,
   "metadata": {},
   "outputs": [],
   "source": [
    "X = train_df[train_cols]\n",
    "y = train_df[label_col]\n",
    "y = np.asarray(y).ravel()"
   ]
  },
  {
   "cell_type": "code",
   "execution_count": 12,
   "metadata": {},
   "outputs": [
    {
     "data": {
      "text/plain": [
       "0.64589993165832615"
      ]
     },
     "execution_count": 12,
     "metadata": {},
     "output_type": "execute_result"
    }
   ],
   "source": [
    "my_svm = svm.SVC()\n",
    "scores = cross_val_score(my_svm, X, y)\n",
    "scores.mean()\n",
    "# my_svm.fit(X, np.asarray(y).ravel())  \n",
    "# my_svm.score(test_df[train_cols], test_df[label_col])"
   ]
  },
  {
   "cell_type": "code",
   "execution_count": 13,
   "metadata": {},
   "outputs": [
    {
     "data": {
      "text/plain": [
       "0.66369889287448636"
      ]
     },
     "execution_count": 13,
     "metadata": {},
     "output_type": "execute_result"
    }
   ],
   "source": [
    "my_lr = linear_model.LogisticRegression()\n",
    "scores = cross_val_score(my_lr, X, y)\n",
    "scores.mean()\n",
    "# my_lr.fit(X, np.asarray(y).ravel())\n",
    "# my_lr.score(test_df[train_cols], test_df[label_col])"
   ]
  },
  {
   "cell_type": "code",
   "execution_count": 14,
   "metadata": {},
   "outputs": [
    {
     "data": {
      "text/plain": [
       "0.66459817280241429"
      ]
     },
     "execution_count": 14,
     "metadata": {},
     "output_type": "execute_result"
    }
   ],
   "source": [
    "my_dt = tree.DecisionTreeClassifier()\n",
    "scores = cross_val_score(my_dt, X, y)\n",
    "scores.mean()\n",
    "# my_dt.fit(X, np.asarray(y).ravel())\n",
    "# my_dt.score(test_df[train_cols], test_df[label_col])"
   ]
  },
  {
   "cell_type": "code",
   "execution_count": 15,
   "metadata": {},
   "outputs": [
    {
     "data": {
      "text/plain": [
       "0.69539831529492435"
      ]
     },
     "execution_count": 15,
     "metadata": {},
     "output_type": "execute_result"
    }
   ],
   "source": [
    "my_rf = ensemble.RandomForestClassifier()\n",
    "scores = cross_val_score(my_rf, X, y)\n",
    "scores.mean()\n",
    "# my_rf.fit(X, np.asarray(y).ravel())\n",
    "# my_rf.score(test_df[train_cols], test_df[label_col])"
   ]
  },
  {
   "cell_type": "code",
   "execution_count": 16,
   "metadata": {},
   "outputs": [
    {
     "data": {
      "text/plain": [
       "0.69509927546303463"
      ]
     },
     "execution_count": 16,
     "metadata": {},
     "output_type": "execute_result"
    }
   ],
   "source": [
    "my_et = ensemble.ExtraTreesClassifier()\n",
    "scores = cross_val_score(my_et, X, y)\n",
    "scores.mean()\n",
    "# my_et.fit(X, np.asarray(y).ravel())\n",
    "# my_et.score(test_df[train_cols], test_df[label_col])"
   ]
  },
  {
   "cell_type": "code",
   "execution_count": 17,
   "metadata": {},
   "outputs": [
    {
     "data": {
      "text/plain": [
       "0.71479917701933804"
      ]
     },
     "execution_count": 17,
     "metadata": {},
     "output_type": "execute_result"
    }
   ],
   "source": [
    "my_gb = ensemble.GradientBoostingClassifier()\n",
    "scores = cross_val_score(my_gb, X, y)\n",
    "scores.mean()\n",
    "# my_gb.fit(X, np.asarray(y).ravel())\n",
    "# my_gb.score(test_df[train_cols], test_df[label_col])"
   ]
  },
  {
   "cell_type": "code",
   "execution_count": 18,
   "metadata": {},
   "outputs": [
    {
     "data": {
      "text/plain": [
       "0.6972981754189379"
      ]
     },
     "execution_count": 18,
     "metadata": {},
     "output_type": "execute_result"
    }
   ],
   "source": [
    "my_ab = ensemble.AdaBoostClassifier(n_estimators=100)\n",
    "scores = cross_val_score(my_ab, X, y)\n",
    "scores.mean()"
   ]
  },
  {
   "cell_type": "code",
   "execution_count": null,
   "metadata": {
    "collapsed": true
   },
   "outputs": [],
   "source": []
  }
 ],
 "metadata": {
  "kernelspec": {
   "display_name": "Python 3",
   "language": "python",
   "name": "python3"
  },
  "language_info": {
   "codemirror_mode": {
    "name": "ipython",
    "version": 3
   },
   "file_extension": ".py",
   "mimetype": "text/x-python",
   "name": "python",
   "nbconvert_exporter": "python",
   "pygments_lexer": "ipython3",
   "version": "3.5.3"
  }
 },
 "nbformat": 4,
 "nbformat_minor": 2
}
